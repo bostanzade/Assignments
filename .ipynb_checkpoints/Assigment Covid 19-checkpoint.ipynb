{
 "cells": [
  {
   "cell_type": "code",
   "execution_count": null,
   "metadata": {},
   "outputs": [],
   "source": [
    "# Estimating the risk of death from coronavirus.\n",
    "'''Task : Estimating the risk of death from coronavirus. Write a program that;\n",
    "\n",
    "Takes \"Yes\" or \"No\" from the user as an answer to the following questions :\n",
    "\n",
    "Are you a cigarette addict older than 75 years old? Variable → age\n",
    "\n",
    "Do you have a severe chronic disease? Variable → chronic\n",
    "\n",
    "Is your immune system too weak? Variable → immune\n",
    "\n",
    "Set a logical algorithm using boolean logic operators (and/or) and use if-statements with the given variables in order to print out us a message :\n",
    "\"You are in risky group\"(if True ) or \"You are not in risky group\" (if False).'''\n",
    "\n",
    "print(\"What is your risk of dying from the coronavirus?\", \"Please enter the answers to the questions as 'Yes' or 'No'.\", sep= \"\\n\")\n",
    "\n",
    "age = input(\"Are you a cigarette addict older than 75 years old? :\")\n",
    "chronic = input(\"Do you have a severe chronic disease? :\")\n",
    "immune = input(\"Is your immune system too weak? :\")\n",
    "Yes = True\n",
    "No = False\n",
    "risk = age or chronic or immune\n",
    "if risk == True :\n",
    "    print(\"You are in risky group!\")\n",
    "else:\n",
    "    print(\"You are not in risky group!\")"
   ]
  },
  {
   "cell_type": "code",
   "execution_count": null,
   "metadata": {},
   "outputs": [],
   "source": []
  }
 ],
 "metadata": {
  "kernelspec": {
   "display_name": "Python 3",
   "language": "python",
   "name": "python3"
  },
  "language_info": {
   "codemirror_mode": {
    "name": "ipython",
    "version": 3
   },
   "file_extension": ".py",
   "mimetype": "text/x-python",
   "name": "python",
   "nbconvert_exporter": "python",
   "pygments_lexer": "ipython3",
   "version": "3.8.5"
  }
 },
 "nbformat": 4,
 "nbformat_minor": 4
}
