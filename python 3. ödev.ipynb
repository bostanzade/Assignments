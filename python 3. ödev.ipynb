{
 "cells": [
  {
   "cell_type": "code",
   "execution_count": 27,
   "metadata": {},
   "outputs": [
    {
     "name": "stdout",
     "output_type": "stream",
     "text": [
      "ölüm riski: False\n",
      "True\n"
     ]
    }
   ],
   "source": [
    "immune = False\n",
    "chronic = True\n",
    "cigarra = True\n",
    "age = False \n",
    "risk1 = age and immune and cigarra and chronic \n",
    "risk2 = age or chronic or cigarra or age \n",
    "print(\"ölüm riski:\", risk1)\n",
    "print (risk2)\n",
    "\n",
    "\n"
   ]
  },
  {
   "cell_type": "code",
   "execution_count": 32,
   "metadata": {},
   "outputs": [
    {
     "name": "stdout",
     "output_type": "stream",
     "text": [
      "death risk 1: True\n",
      "death risk 2: False\n",
      "death risk 3: True\n",
      "death risk 4: True\n"
     ]
    }
   ],
   "source": [
    "age1 = 80\n",
    "age2 = 70\n",
    "immune = False\n",
    "chronic = True\n",
    "cigarra = True\n",
    "risk1 = age1 > 75 and cigarra\n",
    "risk2 = age2 > 75 and cigarra\n",
    "risk3 = immune or chronic or cigarra or bool(age2)\n",
    "risk4 = immune or chronic and bool(age1)\n",
    "print(\"death risk 1:\", risk1)\n",
    "print(\"death risk 2:\", risk2)\n",
    "print(\"death risk 3:\", risk3)\n",
    "print(\"death risk 4:\", risk4)"
   ]
  },
  {
   "cell_type": "code",
   "execution_count": null,
   "metadata": {},
   "outputs": [],
   "source": []
  }
 ],
 "metadata": {
  "kernelspec": {
   "display_name": "Python 3",
   "language": "python",
   "name": "python3"
  },
  "language_info": {
   "codemirror_mode": {
    "name": "ipython",
    "version": 3
   },
   "file_extension": ".py",
   "mimetype": "text/x-python",
   "name": "python",
   "nbconvert_exporter": "python",
   "pygments_lexer": "ipython3",
   "version": "3.8.5"
  }
 },
 "nbformat": 4,
 "nbformat_minor": 4
}
