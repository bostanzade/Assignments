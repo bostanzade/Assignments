{
 "cells": [
  {
   "cell_type": "code",
   "execution_count": null,
   "metadata": {},
   "outputs": [],
   "source": [
    "'''Kullanicidan bir tarih alalrak bunun artik yil olup olmadigini hesaplama'''\n",
    "\n",
    "tarih = int(input(\"Lütfen bir tarihi yil olarak giriniz: \"))\n",
    "if tarih % 400 == 0 and tarih % 4 == 0 :\n",
    "    print(\"Girdiginiz tarih artik yildir\")\n",
    "elif tarih % 100 != 0 :\n",
    "    print(\"Girdiginiz tarih artik yildir\")\n",
    "else:\n",
    "    print(\"Girdiginiz tarih artik yil degildir\")"
   ]
  },
  {
   "cell_type": "code",
   "execution_count": null,
   "metadata": {},
   "outputs": [],
   "source": [
    "year = int(input('enter a 4 digit year:'))  \n",
    "if int(year%400) == 0 and len(str(year))== 4:\n",
    "  print('Entered value is leap year')\n",
    "else :\n",
    "  print('It is not leap year')\n",
    "\n"
   ]
  },
  {
   "cell_type": "code",
   "execution_count": 1,
   "metadata": {},
   "outputs": [
    {
     "name": "stdout",
     "output_type": "stream",
     "text": [
      "Please specify a year: 2020\n",
      "Is the year you have speficied LEAP YEAR? -  True\n"
     ]
    }
   ],
   "source": [
    "year = int(input(\"Please specify a year: \"))\n",
    "year = year % 4 == 0 and year % 100 != 0 or year % 4 == 0 and year % 100 == 0 and year % 400 == 0\n",
    "print(\"Is the year you have speficied LEAP YEAR? - \", year)"
   ]
  },
  {
   "cell_type": "code",
   "execution_count": null,
   "metadata": {},
   "outputs": [],
   "source": []
  }
 ],
 "metadata": {
  "kernelspec": {
   "display_name": "Python 3",
   "language": "python",
   "name": "python3"
  },
  "language_info": {
   "codemirror_mode": {
    "name": "ipython",
    "version": 3
   },
   "file_extension": ".py",
   "mimetype": "text/x-python",
   "name": "python",
   "nbconvert_exporter": "python",
   "pygments_lexer": "ipython3",
   "version": "3.8.5"
  }
 },
 "nbformat": 4,
 "nbformat_minor": 4
}
