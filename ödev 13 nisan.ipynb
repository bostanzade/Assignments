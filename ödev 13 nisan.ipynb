{
 "cells": [
  {
   "cell_type": "code",
   "execution_count": 4,
   "metadata": {},
   "outputs": [
    {
     "name": "stdout",
     "output_type": "stream",
     "text": [
      "13.129999999999999\n",
      "13130\n"
     ]
    }
   ],
   "source": [
    "'''You work for a manufacturer as a programmer and have been asked to calculate\n",
    "the total profit made on the sales of a product. You are given a dictionary (sales) containing \n",
    "the cost price per unit (in dollars), sell price per unit (in dollars), and the beginning inventory. \n",
    "Write a program to return the total profit made, rounded to the nearest dollar. \n",
    "Assume all of the inventory has been sold. \n",
    "The name and the keys of the dictionary are constant, so use them as they are.'''\n",
    "\n",
    "sales = {\n",
    "  \"cost_value\": 31.87,\n",
    "  \"sell_value\": 45.00,\n",
    "  \"inventory\": 1000\n",
    "}  \n",
    "\n",
    "profit = sales[\"sell_value\"] - sales[\"cost_value\"]\n",
    "print(profit)\n",
    "total_profit = profit * sales[\"inventory\"]\n",
    "print(round(total_profit))\n",
    "# the profit will be : 13130"
   ]
  },
  {
   "cell_type": "code",
   "execution_count": 2,
   "metadata": {},
   "outputs": [
    {
     "name": "stdout",
     "output_type": "stream",
     "text": [
      "$3.00\n",
      "$29.99\n",
      "$4.10\n"
     ]
    }
   ],
   "source": [
    "'''Your boss wants you to prepare the payrolls of the workers in your department. \n",
    "You have to convert the amount of dollars into payroll format. In order to help move things along, \n",
    "you have volunteered to write a code that will take a float\n",
    "and return the money in the following format (as dollars and cents). '''\n",
    "\n",
    "\n",
    "amount = [3, 29.99, 4.1]\n",
    "for payrolls in amount:\n",
    "    print(\"${:.2f}\".format(payrolls))\n",
    "#  The output should be float type as well and two digits after the period."
   ]
  },
  {
   "cell_type": "code",
   "execution_count": null,
   "metadata": {},
   "outputs": [],
   "source": []
  }
 ],
 "metadata": {
  "kernelspec": {
   "display_name": "Python 3",
   "language": "python",
   "name": "python3"
  },
  "language_info": {
   "codemirror_mode": {
    "name": "ipython",
    "version": 3
   },
   "file_extension": ".py",
   "mimetype": "text/x-python",
   "name": "python",
   "nbconvert_exporter": "python",
   "pygments_lexer": "ipython3",
   "version": "3.8.5"
  }
 },
 "nbformat": 4,
 "nbformat_minor": 4
}
