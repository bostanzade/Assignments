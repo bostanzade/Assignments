{
 "cells": [
  {
   "cell_type": "code",
   "execution_count": 2,
   "metadata": {},
   "outputs": [
    {
     "data": {
      "text/plain": [
       "'Task:\\n\\nFind out if a given number is an \"Armstrong Number\".\\n\\nAn n-digit number that is the sum of the nth powers of its digits is called an n-Armstrong number.'"
      ]
     },
     "execution_count": 2,
     "metadata": {},
     "output_type": "execute_result"
    }
   ],
   "source": [
    "\"\"\"Task:\n",
    "\n",
    "Find out if a given number is an \"Armstrong Number\".\n",
    "\n",
    "An n-digit number that is the sum of the nth powers of its digits is called an n-Armstrong number.\"\"\""
   ]
  },
  {
   "cell_type": "code",
   "execution_count": 4,
   "metadata": {},
   "outputs": [
    {
     "name": "stdout",
     "output_type": "stream",
     "text": [
      "Enter a pozitif number: 121\n",
      "num is a not Amstrong nummer\n"
     ]
    }
   ],
   "source": [
    "num = int(input(\"Enter a pozitif number: \"))\n",
    "digit = str(num)\n",
    "sum = 0\n",
    "num > 0\n",
    "while num < 0:\n",
    "    num = int(input(\"Enter a pozitif number: \"))\n",
    "    if num > 0:\n",
    "        break\n",
    "    else:\n",
    "        print(\"it is not a pozitif\")\n",
    "        \n",
    "        \n",
    "for i in digit:\n",
    "    i=int(i)\n",
    "    sum = sum +i**len(digit)       \n",
    "\n",
    "    \n",
    "if sum == num:\n",
    "    print(\"num is an Amstrong nummer: \")\n",
    "else:\n",
    "    print(\"num is a not Amstrong nummer\")\n",
    "    \n"
   ]
  },
  {
   "cell_type": "code",
   "execution_count": null,
   "metadata": {},
   "outputs": [],
   "source": []
  },
  {
   "cell_type": "code",
   "execution_count": null,
   "metadata": {},
   "outputs": [],
   "source": []
  }
 ],
 "metadata": {
  "kernelspec": {
   "display_name": "Python 3",
   "language": "python",
   "name": "python3"
  }
 },
 "nbformat": 4,
 "nbformat_minor": 4
}
